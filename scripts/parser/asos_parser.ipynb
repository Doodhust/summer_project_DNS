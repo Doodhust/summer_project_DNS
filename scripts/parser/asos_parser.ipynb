{
 "cells": [
  {
   "cell_type": "code",
   "execution_count": 19,
   "metadata": {},
   "outputs": [],
   "source": [
    "from selenium import webdriver\n",
    "from selenium.webdriver.chrome.service import Service\n",
    "from selenium.webdriver.chrome.options import Options\n",
    "from selenium.webdriver.common.by import By\n",
    "from webdriver_manager.chrome import ChromeDriverManager\n",
    "\n",
    "from bs4 import BeautifulSoup\n",
    "import requests\n",
    "import time\n",
    "import os"
   ]
  },
  {
   "cell_type": "code",
   "execution_count": 20,
   "metadata": {},
   "outputs": [],
   "source": [
    "url = 'https://www.asos.com/discover/as-seen-on-me/?category_id=2176681&auth_token=c812fecad1d705b61ca5999fe8c867c11e57f6a5c9271a1d5e7c36e6f216f0cf'\n",
    "\n",
    "driver = webdriver.Chrome()\n",
    "driver.get(url)"
   ]
  },
  {
   "cell_type": "code",
   "execution_count": 9,
   "metadata": {},
   "outputs": [],
   "source": [
    "def parse_images(driver):\n",
    "    # Найти все элементы <li> в классе 'gallery_content'\n",
    "    li_elements = driver.find_elements(By.CSS_SELECTOR, 'ul.gallery_content li')\n",
    "    image_urls = []\n",
    "    for li in li_elements:\n",
    "        try:\n",
    "            # Найти <img> внутри <li> и извлечь URL\n",
    "            img_tag = li.find_element(By.TAG_NAME, 'img')\n",
    "            image_url = img_tag.get_attribute('src')\n",
    "            image_urls.append(image_url)\n",
    "        except Exception as e:\n",
    "            print(f\"Ошибка при парсинге элемента: {e}\")\n",
    "    return image_urls"
   ]
  },
  {
   "cell_type": "code",
   "execution_count": 10,
   "metadata": {},
   "outputs": [],
   "source": [
    "def save_images(image_urls, folder_path, batch_num):\n",
    "    if not os.path.exists(folder_path):\n",
    "        os.makedirs(folder_path)\n",
    "    \n",
    "    for idx, url in enumerate(image_urls):\n",
    "        try:\n",
    "            image_data = requests.get(url).content\n",
    "            with open(os.path.join(folder_path, f'image_batch{batch_num}_{idx+1}.jpg'), 'wb') as handler:\n",
    "                handler.write(image_data)\n",
    "        except Exception as e:\n",
    "            print(f\"Ошибка при сохранении изображения: {e}\")    "
   ]
  },
  {
   "cell_type": "code",
   "execution_count": 12,
   "metadata": {},
   "outputs": [],
   "source": [
    "folder_path = 'asos_src'\n",
    "batch_size = 50  "
   ]
  },
  {
   "cell_type": "code",
   "execution_count": 13,
   "metadata": {},
   "outputs": [
    {
     "name": "stdout",
     "output_type": "stream",
     "text": [
      "Ошибка при сохранении изображения: HTTPSConnectionPool(host='z2photorankmedia-a.akamaihd.net', port=443): Read timed out. (read timeout=None)\n",
      "Ошибка в итерации 14: Message: no such element: Unable to locate element: {\"method\":\"css selector\",\"selector\":\"div.pagination_container button.button-module_secondary__TDSYl\"}\n",
      "  (Session info: chrome=127.0.6533.73); For documentation on this error, please visit: https://www.selenium.dev/documentation/webdriver/troubleshooting/errors#no-such-element-exception\n",
      "Stacktrace:\n",
      "\tGetHandleVerifier [0x00007FF6A5C69632+30946]\n",
      "\t(No symbol) [0x00007FF6A5C1E3C9]\n",
      "\t(No symbol) [0x00007FF6A5B16FDA]\n",
      "\t(No symbol) [0x00007FF6A5B6822C]\n",
      "\t(No symbol) [0x00007FF6A5B6850C]\n",
      "\t(No symbol) [0x00007FF6A5BADCB7]\n",
      "\t(No symbol) [0x00007FF6A5B8CAAF]\n",
      "\t(No symbol) [0x00007FF6A5BAB041]\n",
      "\t(No symbol) [0x00007FF6A5B8C813]\n",
      "\t(No symbol) [0x00007FF6A5B5A6E5]\n",
      "\t(No symbol) [0x00007FF6A5B5B021]\n",
      "\tGetHandleVerifier [0x00007FF6A5D9F83D+1301229]\n",
      "\tGetHandleVerifier [0x00007FF6A5DABDB7+1351783]\n",
      "\tGetHandleVerifier [0x00007FF6A5DA2A03+1313971]\n",
      "\tGetHandleVerifier [0x00007FF6A5C9DD06+245686]\n",
      "\t(No symbol) [0x00007FF6A5C2758F]\n",
      "\t(No symbol) [0x00007FF6A5C23804]\n",
      "\t(No symbol) [0x00007FF6A5C23992]\n",
      "\t(No symbol) [0x00007FF6A5C1A3EF]\n",
      "\tBaseThreadInitThunk [0x00007FFCDD681FD7+23]\n",
      "\tRtlUserThreadStart [0x00007FFCDE47A95C+44]\n",
      "\n"
     ]
    }
   ],
   "source": [
    "num_batches = 200\n",
    "\n",
    "for batch_num in range(2, num_batches + 2):\n",
    "    try:\n",
    "        driver.execute_script(\"window.scrollTo(0, document.body.scrollHeight);\")\n",
    "        time.sleep(2) \n",
    "        view_more_button = driver.find_element(By.CSS_SELECTOR, 'div.pagination_container button.button-module_secondary__TDSYl')\n",
    "        view_more_button.click()\n",
    "        time.sleep(2)  \n",
    "        \n",
    "        driver.execute_script(\"window.scrollTo(0, document.body.scrollHeight);\")\n",
    "        time.sleep(2)  \n",
    "\n",
    "        image_urls = parse_images(driver)[batch_size*(batch_num-1):batch_size*batch_num]\n",
    "        save_images(image_urls, folder_path, batch_num)\n",
    "    except Exception as e:\n",
    "        print(f\"Ошибка в итерации {batch_num}: {e}\")\n",
    "        break \n"
   ]
  }
 ],
 "metadata": {
  "kernelspec": {
   "display_name": "Python (myenv)",
   "language": "python",
   "name": "myenv"
  },
  "language_info": {
   "codemirror_mode": {
    "name": "ipython",
    "version": 3
   },
   "file_extension": ".py",
   "mimetype": "text/x-python",
   "name": "python",
   "nbconvert_exporter": "python",
   "pygments_lexer": "ipython3",
   "version": "3.12.4"
  }
 },
 "nbformat": 4,
 "nbformat_minor": 2
}
